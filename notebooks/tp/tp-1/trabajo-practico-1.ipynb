{
 "metadata": {
  "name": "",
  "signature": "sha256:b8c833fb1e38644aa87404ac764ce3288ecf350556d88402bfe640754e184dab"
 },
 "nbformat": 3,
 "nbformat_minor": 0,
 "worksheets": [
  {
   "cells": [
    {
     "cell_type": "markdown",
     "metadata": {},
     "source": [
      "# Trabajo Pr\u00e1ctico N\u00ba 1\n",
      "\n",
      "Objetivos:\n",
      "* Aplicar conceptos de procesamiento de se\u00f1ales en python, como convoluci\u00f3n.\n",
      "* Familiarizarse con el entorno de desarrollo de python notebooks\n",
      "\n",
      "## Ejercicios\n",
      "1- Encontrar la funci\u00f3n de transferencia del moving average\n",
      "\n",
      "2- Inyectar al moving average una cuadrada de amplitud 1 y frecuencia 2KHz y una triangular de 1KHz. Analizar los resultados.\n",
      "\n",
      "3- Realizar un algoritmo de convoluci\u00f3n en float y en punto fijo, comparar tiempos y error a la salida. Probar estrategias de redondeo, saturaci\u00f3n y truncamiento.\n",
      "Medir tiempos de computo con el m\u00e9todo: timeit de la lib timeit de la siguiente forma:"
     ]
    },
    {
     "cell_type": "code",
     "collapsed": false,
     "input": [
      "%pylab inline\n",
      "import timeit\n",
      "import time\n",
      "import numpy as np\n",
      "\n",
      "t = np.arange(0, 1024/20000, 1/20000)\n",
      "s1= sin(2*np.pi*1000*t)+1 \n",
      "s2 = sin(2*np.pi*1200*t)\n",
      "\n",
      "# METODO 1 de medici\u00f3n de tiempos\n",
      "\n",
      "# Este wrapper empaqueta funciones para que el timeit pueda medir solo eso\n",
      "def wrapper(func, *args):\n",
      "    def wrapped():\n",
      "        return func(*args)\n",
      "    return wrapped\n",
      "\n",
      "conv = wrapper(np.convolve, s1, s2)\n",
      "print (timeit.timeit(conv, number=1))\n",
      "\n",
      "# METODO 2 de medici\u00f3n de tiempos\n",
      "start = time.time()\n",
      "conv_r = np.convolve(s1,s2)\n",
      "end = time.time()\n",
      "print (end-start)\n",
      "\n"
     ],
     "language": "python",
     "metadata": {},
     "outputs": [
      {
       "output_type": "stream",
       "stream": "stdout",
       "text": [
        "Populating the interactive namespace from numpy and matplotlib\n",
        "0.000321865081787\n",
        "0.000375986099243\n"
       ]
      }
     ],
     "prompt_number": 62
    },
    {
     "cell_type": "markdown",
     "metadata": {},
     "source": [
      "La diferencia en la medici\u00f3n depende de la carga de la CPU y que el primer m\u00e9todo mide solamente la funci\u00f3n pedida. Usar uno de los 2 para realizar la medici\u00f3n, como la medici\u00f3n es comparativa, solo importa usar el mismo m\u00e9todo para todo, los valores absolutos no importan."
     ]
    }
   ],
   "metadata": {}
  }
 ]
}