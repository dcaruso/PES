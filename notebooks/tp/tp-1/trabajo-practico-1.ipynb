{
 "cells": [
  {
   "cell_type": "markdown",
   "metadata": {},
   "source": [
    "# Trabajo Práctico Nº 1\n",
    "\n",
    "Objetivos:\n",
    "* Aplicar conceptos de procesamiento de señales en python, como convolución.\n",
    "* Familiarizarse con el entorno de desarrollo de python notebooks\n",
    "\n",
    "## Ejercicios\n",
    "1- Encontrar la función de transferencia del moving average\n",
    "\n",
    "2- Inyectar al moving average una cuadrada de amplitud 1 y frecuencia 2KHz y una triangular de 1KHz. Analizar los resultados.\n",
    "\n",
    "3- Realizar un algoritmo de convolución en float y en punto fijo, comparar tiempos y error a la salida. Probar estrategias de redondeo, saturación y truncamiento.\n",
    "Medir tiempos de computo con el método: timeit de la lib timeit de la siguiente forma:"
   ]
  },
  {
   "cell_type": "code",
   "execution_count": 62,
   "metadata": {},
   "outputs": [
    {
     "name": "stdout",
     "output_type": "stream",
     "text": [
      "Populating the interactive namespace from numpy and matplotlib\n",
      "0.000321865081787\n",
      "0.000375986099243\n"
     ]
    }
   ],
   "source": [
    "%pylab inline\n",
    "import timeit\n",
    "import time\n",
    "import numpy as np\n",
    "from __future__ import division\n",
    "\n",
    "t = np.arange(0, 1024/20000, 1/20000)\n",
    "s1= sin(2*np.pi*1000*t)+1 \n",
    "s2 = sin(2*np.pi*1200*t)\n",
    "\n",
    "# METODO 1 de medición de tiempos\n",
    "\n",
    "# Este wrapper empaqueta funciones para que el timeit pueda medir solo eso\n",
    "def wrapper(func, *args):\n",
    "    def wrapped():\n",
    "        return func(*args)\n",
    "    return wrapped\n",
    "\n",
    "conv = wrapper(np.convolve, s1, s2)\n",
    "print (timeit.timeit(conv, number=1))\n",
    "\n",
    "# METODO 2 de medición de tiempos\n",
    "start = time.time()\n",
    "conv_r = np.convolve(s1,s2)\n",
    "end = time.time()\n",
    "print (end-start)\n",
    "\n"
   ]
  },
  {
   "cell_type": "markdown",
   "metadata": {},
   "source": [
    "La diferencia en la medición depende de la carga de la CPU y que el primer método mide solamente la función pedida. Usar uno de los 2 para realizar la medición, como la medición es comparativa, solo importa usar el mismo método para todo, los valores absolutos no importan."
   ]
  }
 ],
 "metadata": {
  "kernelspec": {
   "display_name": "Python 2",
   "language": "python",
   "name": "python2"
  },
  "language_info": {
   "codemirror_mode": {
    "name": "ipython",
    "version": 2
   },
   "file_extension": ".py",
   "mimetype": "text/x-python",
   "name": "python",
   "nbconvert_exporter": "python",
   "pygments_lexer": "ipython2",
   "version": "2.7.13"
  }
 },
 "nbformat": 4,
 "nbformat_minor": 1
}
