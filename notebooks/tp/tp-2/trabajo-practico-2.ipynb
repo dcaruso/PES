{
 "cells": [
  {
   "cell_type": "markdown",
   "metadata": {},
   "source": [
    "# Trabajo Práctico Nº 2\n",
    "\n",
    "Objetivos:\n",
    "* Familiarizarse con el entorno de desarrollo cortexM4 (STM32F4 Discovery)\n",
    "* Comprender los métodos para medir SNR\n",
    "* Implementación en C de algoritmos de procesamiento\n",
    "\n",
    "## Ejercicios\n",
    "1-  Inyectar una senoidal con un generador del laboratorio al ADC (controlar la amplitud de la señal entre 0 y 3.3V). \n",
    "Enviar los datos convertidos por uart a la pc. Desde python calcular el SNR, sabiendo que la señal que estan midiendo \n",
    "es la que tiene amplitud mayor (hacerlo automatico) y luego calcular el ENOB. Hacer un barrido en frecuencia, sin \n",
    "sobrepasar Fs/2 y ver como cambia el SNR y ENOB. Tener en cuenta el leakage, por lo que conviene frecuencias de la \n",
    "senoidal multiplos de Fs/N. Sacar conclusiones de lo observado. Ver el notebook con ayudas!\n",
    "\n",
    "2-  Implementar algoritmo de convolucion en int y en float. Usar la respuesta al impulso \n",
    "del moving average para filtrar la entraday salir por uart. Medir tiempos de calculo del filtro en int y en float. \n",
    "Habilitar la FPU (ya les dire como) y ver como mejora el calculo en float. Medir el SNR de la misma senoidal del punto \n",
    "1 pero filtrando con el moving average.\n",
    "Elegir un valor de frecuencia de la senoidal cercana a 1KHz y comparar su SNR: sin filtro, con filtro y con filtro \n",
    "subiendo la freq de muestreo. Sacar conclusiones."
   ]
  }
 ],
 "metadata": {
  "kernelspec": {
   "display_name": "Python 2",
   "language": "python",
   "name": "python2"
  },
  "language_info": {
   "codemirror_mode": {
    "name": "ipython",
    "version": 2
   },
   "file_extension": ".py",
   "mimetype": "text/x-python",
   "name": "python",
   "nbconvert_exporter": "python",
   "pygments_lexer": "ipython2",
   "version": "2.7.13"
  }
 },
 "nbformat": 4,
 "nbformat_minor": 1
}
