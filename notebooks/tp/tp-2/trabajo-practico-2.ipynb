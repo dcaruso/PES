{
 "metadata": {
  "name": "",
  "signature": "sha256:0de70fb903816d38cc57d913cdd74e665f1024ef09adff88dc2bfbb118a0c8f1"
 },
 "nbformat": 3,
 "nbformat_minor": 0,
 "worksheets": [
  {
   "cells": [
    {
     "cell_type": "markdown",
     "metadata": {},
     "source": [
      "# Trabajo Pr\u00e1ctico N\u00ba 2\n",
      "\n",
      "Objetivos:\n",
      "* Familiarizarse con el entorno de desarrollo cortexM4 (STM32F4 Discovery)\n",
      "* Comprender los m\u00e9todos para medir SNR\n",
      "* Implementaci\u00f3n en C de algoritmos de procesamiento\n",
      "\n",
      "## Ejercicios\n",
      "1-  Inyectar una senoidal con un generador del laboratorio al ADC (controlar la amplitud de la se\u00f1al entre 0 y 3.3V). \n",
      "Enviar los datos convertidos por uart a la pc. Desde python calcular el SNR, sabiendo que la se\u00f1al que estan midiendo \n",
      "es la que tiene amplitud mayor (hacerlo automatico) y luego calcular el ENOB. Hacer un barrido en frecuencia, sin \n",
      "sobrepasar Fs/2 y ver como cambia el SNR y ENOB. Tener en cuenta el leakage, por lo que conviene frecuencias de la \n",
      "senoidal multiplos de Fs/N. Sacar conclusiones de lo observado. Ver el notebook con ayudas!\n",
      "\n",
      "2-  Implementar algoritmo de convolucion en int y en float. Usar la respuesta al impulso \n",
      "del moving average para filtrar la entraday salir por uart. Medir tiempos de calculo del filtro en int y en float. \n",
      "Habilitar la FPU (ya les dire como) y ver como mejora el calculo en float. Medir el SNR de la misma senoidal del punto \n",
      "1 pero filtrando con el moving average.\n",
      "Elegir un valor de frecuencia de la senoidal cercana a 1KHz y comparar su SNR: sin filtro, con filtro y con filtro \n",
      "subiendo la freq de muestreo. Sacar conclusiones."
     ]
    }
   ],
   "metadata": {}
  }
 ]
}