{
 "metadata": {
  "name": "",
  "signature": "sha256:e6d7c5bffb996e7c4bf348b5e08fb7caa4b493792fe5a351b1340fb2adb61e05"
 },
 "nbformat": 3,
 "nbformat_minor": 0,
 "worksheets": [
  {
   "cells": [
    {
     "cell_type": "code",
     "collapsed": false,
     "input": [
      "# detector de goertzel\n",
      "%pylab inline\n",
      "import math\n",
      "import scipy.signal as sig\n",
      "import scipy.io.wavfile\n",
      "import numpy as np\n",
      "import matplotlib.pyplot as plt\n",
      "from scipy.fftpack import fft, ifft\n",
      "\n",
      "input_rate,input_sig=scipy.io.wavfile.read('Audios/ee.wav')\n",
      "\n",
      "def goertzel(samples, sample_rate, *freqs):\n",
      "    \"\"\"\n",
      "    Implementation of the Goertzel algorithm, useful for calculating individual\n",
      "    terms of a discrete Fourier transform.\n",
      "    `samples` is a windowed one-dimensional signal originally sampled at `sample_rate`.\n",
      "    The function returns 2 arrays, one containing the actual frequencies calculated,\n",
      "    the second the coefficients `(real part, imag part, power)` for each of those frequencies.\n",
      "    For simple spectral analysis, the power is usually enough.\n",
      "    Example of usage :\n",
      "        \n",
      "        freqs, results = goertzel(some_samples, 44100, (400, 500), (1000, 1100))\n",
      "    \"\"\"\n",
      "    window_size = len(samples)\n",
      "    f_step = sample_rate / float(window_size)\n",
      "    f_step_normalized = 1.0 / window_size\n",
      "\n",
      "    # Calculate all the DFT bins we have to compute to include frequencies\n",
      "    # in `freqs`.\n",
      "    bins = set()\t\n",
      "    for f_range in freqs:\n",
      "        f_start, f_end = f_range\n",
      "        k_start = int(math.floor(f_start / f_step))\n",
      "        k_end = int(math.ceil(f_end / f_step))\n",
      "\n",
      "        if k_end > window_size - 1: raise ValueError('frequency out of range %s' % k_end)\n",
      "        bins = bins.union(range(k_start, k_end))\n",
      "\n",
      "    # For all the bins, calculate the DFT term\n",
      "    n_range = range(0, window_size)\n",
      "    freqs = []\n",
      "    results = []\n",
      "    for k in bins:\n",
      "\n",
      "        # Bin frequency and coefficients for the computation\n",
      "        f = k * f_step_normalized\n",
      "        w_real = 2.0 * math.cos(2.0 * math.pi * f)\n",
      "        w_imag = math.sin(2.0 * math.pi * f)\n",
      "\n",
      "        # Doing the calculation on the whole sample\n",
      "        d1, d2 = 0.0, 0.0\n",
      "        for n in n_range:\n",
      "            y  = samples[n] + w_real * d1 - d2\n",
      "            d2, d1 = d1, y\n",
      "\n",
      "        # Storing results `(real part, imag part, power)`\n",
      "        #results.append((0.5 * w_real * d1 - d2, w_imag * d1, d2**2 + d1**2 - w_real * d1 * d2))\n",
      "        results.append(d2**2 + d1**2 - w_real * d1 * d2)\n",
      "        freqs.append(f * sample_rate)\n",
      "    return freqs, results\n",
      "senal = np.array(input_sig)\n",
      "INI = 3e4\n",
      "FIN = 5e4\n",
      "\n",
      "\n",
      "freqs , results = goertzel(senal[INI:FIN],input_rate/4,(150,180))\n",
      "max = np.amax(results)\n",
      "\n",
      "plt.plot (freqs,results)\n",
      "show()\n"
     ],
     "language": "python",
     "metadata": {},
     "outputs": [
      {
       "output_type": "stream",
       "stream": "stdout",
       "text": [
        "Populating the interactive namespace from numpy and matplotlib\n"
       ]
      },
      {
       "output_type": "stream",
       "stream": "stderr",
       "text": [
        "WARNING: pylab import has clobbered these variables: ['fft', 'ifft']\n",
        "`%matplotlib` prevents importing * from pylab and numpy\n"
       ]
      },
      {
       "metadata": {},
       "output_type": "display_data",
       "png": "[encoded data removed]",
       "text": [
        "<matplotlib.figure.Figure at 0x7f97e02a2510>"
       ]
      }
     ],
     "prompt_number": 4
    },
    {
     "cell_type": "code",
     "collapsed": false,
     "input": [
      "\n",
      "'''\n",
      "print \"MI\"\n",
      "freqs , results = goertzel(senal[INI:FIN],input_rate/4,(78,84))\n",
      "max = np.amax(results)\n",
      "\n",
      "plt.plot (freqs,results)\n",
      "show()\n",
      "\n",
      "print \"LA\"\n",
      "freqs , results = goertzel(senal[INI:FIN],input_rate/4,(100,120))\n",
      "plt.plot (freqs,results)\n",
      "show()\n",
      "\n",
      "print \"RE\"\n",
      "freqs , results = goertzel(senal[INI:FIN],input_rate/4,(140,154))\n",
      "plt.plot (freqs,results)\n",
      "show()\n",
      "\n",
      "print \"SOL\"\n",
      "freqs , results = goertzel(senal[INI:FIN],input_rate/4,(190,200))\n",
      "plt.plot (freqs,results)\n",
      "show()\n",
      "\n",
      "print \"SI\"\n",
      "freqs , results = goertzel(senal[INI:FIN],input_rate/4,(237,257))\n",
      "plt.plot (freqs,results)\n",
      "show()\n",
      "\n",
      "print \"MI\"\n",
      "freqs , results = goertzel(senal[INI:FIN],input_rate/4,(320,350))\n",
      "plt.plot (freqs,results)\n",
      "show()\n",
      "'''"
     ],
     "language": "python",
     "metadata": {},
     "outputs": []
    },
    {
     "cell_type": "code",
     "collapsed": false,
     "input": [],
     "language": "python",
     "metadata": {},
     "outputs": []
    }
   ],
   "metadata": {}
  }
 ]
}