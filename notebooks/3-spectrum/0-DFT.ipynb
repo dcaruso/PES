{
 "cells": [
  {
   "cell_type": "markdown",
   "metadata": {},
   "source": [
    "# DFT\n",
    "Ejemplo de implementación, visualización de leakage"
   ]
  },
  {
   "cell_type": "code",
   "execution_count": 3,
   "metadata": {},
   "outputs": [
    {
     "data": {
      "application/vnd.jupyter.widget-view+json": {
       "model_id": "3473e2cac45f4e499b852826ef251938",
       "version_major": 2,
       "version_minor": 0
      },
      "text/plain": [
       "aW50ZXJhY3RpdmUoY2hpbGRyZW49KEludFNsaWRlcih2YWx1ZT0xNTAsIGRlc2NyaXB0aW9uPXUnRicsIG1heD0yMDAsIG1pbj0xMDApLCBJbnRTbGlkZXIodmFsdWU9NSwgZGVzY3JpcHRpb27igKY=\n"
      ]
     },
     "metadata": {},
     "output_type": "display_data"
    },
    {
     "data": {
      "text/plain": [
       "<function __main__.plt_signal>"
      ]
     },
     "execution_count": 3,
     "metadata": {},
     "output_type": "execute_result"
    }
   ],
   "source": [
    "import scipy.signal as sig\n",
    "import numpy as np\n",
    "import matplotlib.pyplot as plt\n",
    "from scipy.fftpack import fft, ifft\n",
    "from __future__ import division\n",
    "import math\n",
    "import cmath\n",
    "\n",
    "from IPython.html.widgets import *\n",
    "\n",
    "N = 128\n",
    "Fs = 1000\n",
    "Fc = 300\n",
    "t = np.arange(0, N/Fs, 1/Fs)\n",
    "f = np.arange(-Fs/2, Fs/2, Fs/N)\n",
    "\n",
    "def dft(input):\n",
    "    n = len(input)\n",
    "    output = [complex(0)] * n\n",
    "    for k in range(n):  # For each output element\n",
    "        s = complex(0)\n",
    "        for t in range(n):  # For each input element\n",
    "            s += input[t] * cmath.exp(-2j * cmath.pi * t * k / n)\n",
    "        output[k] = s\n",
    "    return output\n",
    "\n",
    "def plt_signal(F, A, Z):\n",
    "    plt.figure(1)\n",
    "    x = A*np.sin(2*np.pi*F*t)\n",
    "    ze = np.zeros(int(Z/2))\n",
    "    xc = np.concatenate((ze,x,ze),axis=0)\n",
    "    #sp=fftshift(abs(fft(x)))/N\n",
    "    sp = np.absolute(dft(xc))/N\n",
    "    plt.plot(xc, 'r.')\n",
    "    plt.plot(xc,'b')\n",
    "    plt.ylim((-10,10))\n",
    "    plt.show()\n",
    "    plt.figure(2)\n",
    "    plt.stem(sp)\n",
    "    plt.show()\n",
    "    \n",
    "\n",
    "interact(plt_signal, F=(100,200,1), A=(0,10,1), Z=(0,200,1))"
   ]
  },
  {
   "cell_type": "code",
   "execution_count": null,
   "metadata": {},
   "outputs": [],
   "source": []
  }
 ],
 "metadata": {
  "kernelspec": {
   "display_name": "Python 2",
   "language": "python",
   "name": "python2"
  },
  "language_info": {
   "codemirror_mode": {
    "name": "ipython",
    "version": 2
   },
   "file_extension": ".py",
   "mimetype": "text/x-python",
   "name": "python",
   "nbconvert_exporter": "python",
   "pygments_lexer": "ipython2",
   "version": "2.7.13"
  }
 },
 "nbformat": 4,
 "nbformat_minor": 1
}
