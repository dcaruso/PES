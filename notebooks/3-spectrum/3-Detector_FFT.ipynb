{
 "cells": [
  {
   "cell_type": "code",
   "execution_count": 18,
   "metadata": {},
   "outputs": [
    {
     "name": "stdout",
     "output_type": "stream",
     "text": [
      "Populating the interactive namespace from numpy and matplotlib\n",
      "16128\n",
      "Espectro\n",
      "Frecuencia Fundamental =  328.80859375\n",
      "Deberia ser un Mi de 330Hz. Hay un error de: 1.19140625 Hz\n"
     ]
    },
    {
     "name": "stderr",
     "output_type": "stream",
     "text": [
      "WARNING: pylab import has clobbered these variables: ['fft', 'ifft']\n",
      "`%matplotlib` prevents importing * from pylab and numpy\n"
     ]
    },
    {
     "data": {
      "image/png": "[encoded data removed]",
      "text/plain": [
       "<matplotlib.figure.Figure at 0x7f847fd8a250>"
      ]
     },
     "metadata": {},
     "output_type": "display_data"
    }
   ],
   "source": [
    "%pylab inline\n",
    "import scipy.signal as sig\n",
    "import scipy.io.wavfile\n",
    "import numpy as np\n",
    "import matplotlib.pyplot as plt\n",
    "from scipy.fftpack import fft, ifft\n",
    "\n",
    "input_rate,input_sig=scipy.io.wavfile.read('Audios/ee.wav')\n",
    "\n",
    "\n",
    "#spec = (abs(fft(input_sig)))/input_sig.size()\n",
    "spec = fft(input_sig)\n",
    "spec = abs(spec)\n",
    "spec = spec/input_sig.size\n",
    "spec = fftshift(spec)\n",
    "frecs = fftfreq(input_sig.size, 1.0/input_rate)\n",
    "frecs = fftshift(frecs)\n",
    "\n",
    "#print 'Señal de audio'\n",
    "#plt.plot(input_sig)\n",
    "#plt.show()\n",
    "\n",
    "start = len(spec)/2 #Al estar centrado en la mitad del vector, arranco a buscar la fundamental alli\n",
    "stop = start + len(spec)/8 #Asumo que la encontrare seguramente entre la mitad y un octavo mas del vector.\n",
    "\n",
    "spec_crop = spec[start:stop]\n",
    "frec_crop = frecs[start:stop] #Recorta espectro y eje de frec para buscar alli solamente la nota.\n",
    "print len(spec_crop)\n",
    "print 'Espectro'\n",
    "plt.plot(frec_crop,spec_crop)\n",
    "xlim(0,2000)\n",
    "\n",
    "#ylim(0,500)\n",
    "#plt.show()\n",
    "themax = amax(spec_crop)\n",
    "#np.argmax(spec)\n",
    "\n",
    "\n",
    "for i in range (0,len(spec_crop)):\n",
    "    if spec_crop[i]>(themax/8):\n",
    "        indice =i\n",
    "        break\n",
    "\n",
    "afr = abs(frec_crop[indice])\n",
    "print 'Frecuencia Fundamental = ',afr\n",
    "\n",
    "if afr<95 or (afr>161 and afr<170):   # Entra si es E o E*\n",
    "    if afr<96:\n",
    "        error = 82 - afr\n",
    "        print 'Deberia ser un Mi de 82Hz. Hay un error de:', error,'Hz'\n",
    "    \n",
    "elif (afr>97 and afr<123) or (afr>209 and afr<232):   #Entra si es A o A*\n",
    "    if afr<123:\n",
    "        error = 110 - afr\n",
    "        print 'Deberia ser un La de 110Hz. Hay un error de:', error,'Hz'\n",
    "\n",
    "        \n",
    "elif (afr>131 and afr<159) or (afr>271 and afr<311):\n",
    "    if afr<159:\n",
    "        error = 147 - afr\n",
    "        print 'Deberia ser un Re de 147Hz. Hay un error de:', error,'Hz'\n",
    "    \n",
    "elif (afr>175 and afr<208) or (afr>361 and afr<443):\n",
    "    if afr<208:\n",
    "        error = 196 - afr \n",
    "        print 'Deberia ser un Sol de 196Hz. Hay un error de:', error,'Hz'\n",
    "\n",
    "elif (afr>233 and afr<270) or (afr>444 and afr<576):\n",
    "    if afr<270:\n",
    "        error = 247 - afr \n",
    "        print 'Deberia ser un Si de 297Hz. Hay un error de:', error,'Hz'\n",
    "        \n",
    "elif (afr>312 and afr<360) or afr>577:\n",
    "    if afr<360:\n",
    "        error = 330 - afr \n",
    "        print 'Deberia ser un Mi de 330Hz. Hay un error de:', error,'Hz'\n",
    "\n",
    "else:\n",
    "    print \"Estas muy desafinado...\"\n",
    "    print \"Sacando turno al otorrino... espere por favor.\""
   ]
  },
  {
   "cell_type": "code",
   "execution_count": null,
   "metadata": {},
   "outputs": [],
   "source": []
  }
 ],
 "metadata": {
  "kernelspec": {
   "display_name": "Python 3",
   "language": "python",
   "name": "python3"
  },
  "language_info": {
   "codemirror_mode": {
    "name": "ipython",
    "version": 3
   },
   "file_extension": ".py",
   "mimetype": "text/x-python",
   "name": "python",
   "nbconvert_exporter": "python",
   "pygments_lexer": "ipython3",
   "version": "3.6.6"
  }
 },
 "nbformat": 4,
 "nbformat_minor": 1
}
