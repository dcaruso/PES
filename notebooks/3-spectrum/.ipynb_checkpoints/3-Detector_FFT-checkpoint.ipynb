{
 "metadata": {
  "name": "",
  "signature": "sha256:bdb2bd02d22ea1855942981db98dd8f18ca18cb04e0b0a011aa71306f7ad9f98"
 },
 "nbformat": 3,
 "nbformat_minor": 0,
 "worksheets": [
  {
   "cells": [
    {
     "cell_type": "code",
     "collapsed": false,
     "input": [
      "%pylab inline\n",
      "import scipy.signal as sig\n",
      "import scipy.io.wavfile\n",
      "import numpy as np\n",
      "import matplotlib.pyplot as plt\n",
      "from scipy.fftpack import fft, ifft\n",
      "\n",
      "input_rate,input_sig=scipy.io.wavfile.read('Audios/G.wav')\n",
      "\n",
      "\n",
      "spec = (abs(fft(input_sig)))/input_sig.size\n",
      "spec = fftshift(spec)\n",
      "frecs = fftfreq(input_sig.size, 1.0/input_rate)\n",
      "frecs = fftshift(frecs)\n",
      "\n",
      "print 'Se\u00f1al de audio'\n",
      "plot(input_sig)\n",
      "show()\n",
      "print 'Espectro'\n",
      "plot(frecs,spec)\n",
      "xlim(0,2000)\n",
      "#ylim(0,500)\n",
      "show()\n",
      "\n",
      "indice = np.argmax(spec)\n",
      "\n",
      "print 'Frecuencia Fundamental = ',abs(frecs[indice])\n",
      "\n",
      "if abs(frecs[indice])<95 or (abs(frecs[indice])>161 and abs(frecs[indice])<170):   # Entra si es E o E*\n",
      "    if abs(frecs[indice])<96:\n",
      "        error = 82 - abs(frecs[indice])\n",
      "        print 'Deberia ser un Mi de 82Hz. Hay un error de:', error,'Hz'\n",
      "    else:\n",
      "        while (abs(frecs[indice])>96):\n",
      "            spec[indice]= 0\n",
      "            indice = np.argmax(spec)\n",
      "        error = 82 - abs(frecs[indice])\n",
      "        print 'Deberia ser un Mi de 82Hz. Hay un error de:', error,'Hz'\n",
      "    \n",
      "elif (abs(frecs[indice])>97 and abs(frecs[indice])<123) or (abs(frecs[indice])>209 and abs(frecs[indice])<232):   #Entra si es A o A*\n",
      "    if abs(frecs[indice])<123:\n",
      "        error = 110 - abs(frecs[indice])\n",
      "        print 'Deberia ser un La de 110Hz. Hay un error de:', error,'Hz'\n",
      "    else:\n",
      "        while (abs(frecs[indice])>123):\n",
      "            spec[indice]= 0\n",
      "            indice = np.argmax(spec)\n",
      "        error = 110 - abs(frecs[indice])\n",
      "        print 'Deberia ser un La de 110Hz. Hay un error de:', error,'Hz'\n",
      "        \n",
      "elif (abs(frecs[indice])>131 and abs(frecs[indice])<159) or (abs(frecs[indice])>271 and abs(frecs[indice])<311):\n",
      "    if abs(frecs[indice])<159:\n",
      "        error = 147 - abs(frecs[indice])\n",
      "        print 'Deberia ser un Re de 147Hz. Hay un error de:', error,'Hz'\n",
      "    else:\n",
      "        while (abs(frecs[indice])>159):\n",
      "            spec[indice]= 0\n",
      "            indice = np.argmax(spec)\n",
      "        error = 147 - abs(frecs[indice])\n",
      "        print 'Deberia ser un Re de 147Hz. Hay un error de:', error,'Hz'\n",
      "    \n",
      "elif (abs(frecs[indice])>175 and abs(frecs[indice])<208) or (abs(frecs[indice])>361 and abs(frecs[indice])<443):\n",
      "    if abs(frecs[indice])<208:\n",
      "        error = 196 - abs(frecs[indice]) \n",
      "        print 'Deberia ser un Sol de 196Hz. Hay un error de:', error,'Hz'\n",
      "    else:\n",
      "        while (abs(frecs[indice])>208):\n",
      "            spec[indice]= 0\n",
      "            indice = np.argmax(spec)\n",
      "        error = 196 - abs(frecs[indice]) \n",
      "        print 'Deberia ser un Sol de 196Hz. Hay un error de:', error,'Hz'\n",
      "     \n",
      "elif (abs(frecs[indice])>233 and abs(frecs[indice])<270) or (abs(frecs[indice])>444 and abs(frecs[indice])<576):\n",
      "    if abs(frecs[indice])<270:\n",
      "        error = 247 - abs(frecs[indice]) \n",
      "        print 'Deberia ser un Si de 297Hz. Hay un error de:', error,'Hz'\n",
      "    else:\n",
      "        while (abs(frecs[indice])>270):\n",
      "            spec[indice]= 0\n",
      "            indice = np.argmax(spec)\n",
      "        error = 247 - abs(frecs[indice]) \n",
      "        print 'Deberia ser un Si de 297Hz. Hay un error de:', error,'Hz'\n",
      "    \n",
      "elif (abs(frecs[indice])>312 and abs(frecs[indice])<360) or abs(frecs[indice])>577:\n",
      "    if abs(frecs[indice])<360:\n",
      "        error = 330 - abs(frecs[indice]) \n",
      "        print 'Deberia ser un Mi de 330Hz. Hay un error de:', error,'Hz'\n",
      "    else:\n",
      "        while (abs(frecs[indice])>360):\n",
      "            spec[indice]= 0\n",
      "            indice = np.argmax(spec)\n",
      "        error = 330 - abs(frecs[indice])\n",
      "        print 'Deberia ser un Mi de 330Hz. Hay un error de:', error,'Hz'\n"
     ],
     "language": "python",
     "metadata": {},
     "outputs": [
      {
       "output_type": "stream",
       "stream": "stdout",
       "text": [
        "Populating the interactive namespace from numpy and matplotlib\n",
        "Se\u00f1al de audio"
       ]
      },
      {
       "output_type": "stream",
       "stream": "stdout",
       "text": [
        "\n"
       ]
      },
      {
       "output_type": "stream",
       "stream": "stderr",
       "text": [
        "WARNING: pylab import has clobbered these variables: ['fft', 'ifft']\n",
        "`%matplotlib` prevents importing * from pylab and numpy\n"
       ]
      },
      {
       "metadata": {},
       "output_type": "display_data",
       "png": "[encoded data removed]",
       "text": [
        "<matplotlib.figure.Figure at 0x7f2dac20f210>"
       ]
      },
      {
       "output_type": "stream",
       "stream": "stdout",
       "text": [
        "Espectro\n"
       ]
      },
      {
       "metadata": {},
       "output_type": "display_data",
       "png": "[encoded data removed]",
       "text": [
        "<matplotlib.figure.Figure at 0x7f2d8a0c0e10>"
       ]
      },
      {
       "output_type": "stream",
       "stream": "stdout",
       "text": [
        "Frecuencia Fundamental =  109.378884055\n",
        "Deberia ser un La de 110Hz. Hay un error de: 0.621115944602 Hz\n"
       ]
      }
     ],
     "prompt_number": 3
    },
    {
     "cell_type": "code",
     "collapsed": false,
     "input": [],
     "language": "python",
     "metadata": {},
     "outputs": [],
     "prompt_number": 0
    },
    {
     "cell_type": "code",
     "collapsed": false,
     "input": [],
     "language": "python",
     "metadata": {},
     "outputs": []
    }
   ],
   "metadata": {}
  }
 ]
}