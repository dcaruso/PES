{
 "cells": [
  {
   "cell_type": "code",
   "execution_count": null,
   "metadata": {},
   "outputs": [],
   "source": [
    "from __future__ import division\n",
    "import cv2\n",
    "import numpy as np\n",
    "import matplotlib.pyplot as plt\n",
    "\n",
    "cap = cv2.VideoCapture(0)\n",
    "kernel = np.ones((5,5),np.uint8)\n",
    "\n",
    "kerneld = np.ones((4,4),np.uint8)\n",
    "kernele = np.ones((5,5),np.uint8)\n",
    "kerneleg = np.ones((4,4),np.uint8)\n",
    "while(1):\n",
    "\n",
    "    # Captura un frame\n",
    "    _, frame = cap.read()\n",
    "\n",
    "    # Convert BGR to HSV\n",
    "    hsv = cv2.cvtColor(frame, cv2.COLOR_BGR2HSV)\n",
    "\n",
    "    # define range of blue color in HSV\n",
    "    lower_green = np.array([45,80,80])\n",
    "    upper_green = np.array([80,255,255])\n",
    "\n",
    "    # Threshold the HSV image to get only blue colors\n",
    "    mask = cv2.inRange(hsv, lower_green, upper_green)\n",
    "    #maskd = cv2.dilate(mask,kernel,iterations = 1) #1\n",
    "    #maskd = cv2.erode(mask,kernel,iterations = 1) #2\n",
    "    #maskd = cv2.morphologyEx(mask, cv2.MORPH_OPEN, kernel) # 3 (erotion and dilation)\n",
    "    #maskd = cv2.morphologyEx(mask, cv2.MORPH_CLOSE, kernel) # 4 (dilation and erotion)\n",
    "    \n",
    "    #maskd = cv2.dilate(mask,kerneld,iterations = 1) #5\n",
    "    #maskd = cv2.erode(maskd,kernele,iterations = 1) #5\n",
    "    \n",
    "    maskd = cv2.medianBlur(mask,11)\n",
    "    #maskd = cv2.dilate(maskd,kernel,iterations = 1) #1\n",
    "    maskd = cv2.morphologyEx(maskd, cv2.MORPH_GRADIENT, kernel) # 6\n",
    "\n",
    "    # Bitwise-AND mask and original image\n",
    "    res = cv2.bitwise_and(frame,frame, mask= maskd)\n",
    "\n",
    "    #cv2.imshow('frame',frame)\n",
    "    cv2.imshow('mask',mask)\n",
    "    cv2.imshow('maskd',maskd)\n",
    "    #cv2.imshow('res',res)\n",
    "    k = cv2.waitKey(10) & 0xFF\n",
    "    if k == 27:\n",
    "        break\n",
    "\n",
    "cv2.destroyAllWindows()"
   ]
  },
  {
   "cell_type": "code",
   "execution_count": null,
   "metadata": {},
   "outputs": [],
   "source": []
  }
 ],
 "metadata": {
  "kernelspec": {
   "display_name": "Python 2",
   "language": "python",
   "name": "python2"
  },
  "language_info": {
   "codemirror_mode": {
    "name": "ipython",
    "version": 2
   },
   "file_extension": ".py",
   "mimetype": "text/x-python",
   "name": "python",
   "nbconvert_exporter": "python",
   "pygments_lexer": "ipython2",
   "version": "2.7.13"
  }
 },
 "nbformat": 4,
 "nbformat_minor": 1
}
